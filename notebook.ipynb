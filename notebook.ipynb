{
 "cells": [
  {
   "cell_type": "markdown",
   "id": "2940e9b0-00cf-454b-ab83-9de70ebf8f59",
   "metadata": {},
   "source": [
    "# Project: Exploring NYC Public School Test Result Score"
   ]
  },
  {
   "cell_type": "markdown",
   "id": "fe0ea788-58dd-459e-8976-fafdb5c05c6d",
   "metadata": {},
   "source": [
    "![New York City schoolbus](schoolbus.jpg)\n",
    "\n",
    "Photo by [Jannis Lucas](https://unsplash.com/@jannis_lucas) on [Unsplash](https://unsplash.com).\n",
    "<br>\n",
    "\n",
    "Every year, American high school students take SATs, which are standardized tests intended to measure literacy, numeracy, and writing skills. There are three sections - reading, math, and writing, each with a **maximum score of 800 points**. These tests are extremely important for students and colleges, as they play a pivotal role in the admissions process.\n",
    "\n",
    "Analyzing the performance of schools is important for a variety of stakeholders, including policy and education professionals, researchers, government, and even parents considering which school their children should attend. \n",
    "\n",
    "You have been provided with a dataset called `schools.csv`, which is previewed below.\n",
    "\n",
    "You have been tasked with answering three key questions about New York City (NYC) public school SAT performance."
   ]
  },
  {
   "cell_type": "code",
   "execution_count": 1,
   "id": "d0eb4f16-5a99-460d-a5ba-706b7ef0bbe7",
   "metadata": {
    "collapsed": false,
    "executionCancelledAt": null,
    "executionTime": 51,
    "id": "bA5ajAmk7XH6",
    "jupyter": {
     "outputs_hidden": false,
     "source_hidden": false
    },
    "lastExecutedAt": 1731295174978,
    "lastExecutedByKernel": "4caf75a7-4f5e-4474-8e81-cb04f0e1474e",
    "lastScheduledRunId": null,
    "lastSuccessfullyExecutedCode": "# Re-run this cell \nimport pandas as pd\n\n# Read in the data\nschools = pd.read_csv(\"schools.csv\")\n\n# Preview the data\nschools.head()\n\n# Start coding here...\n# Add as many cells as you like...",
    "outputsMetadata": {
     "0": {
      "height": 265,
      "type": "dataFrame"
     }
    }
   },
   "outputs": [
    {
     "data": {
      "text/html": [
       "<div>\n",
       "<style scoped>\n",
       "    .dataframe tbody tr th:only-of-type {\n",
       "        vertical-align: middle;\n",
       "    }\n",
       "\n",
       "    .dataframe tbody tr th {\n",
       "        vertical-align: top;\n",
       "    }\n",
       "\n",
       "    .dataframe thead th {\n",
       "        text-align: right;\n",
       "    }\n",
       "</style>\n",
       "<table border=\"1\" class=\"dataframe\">\n",
       "  <thead>\n",
       "    <tr style=\"text-align: right;\">\n",
       "      <th></th>\n",
       "      <th>school_name</th>\n",
       "      <th>borough</th>\n",
       "      <th>building_code</th>\n",
       "      <th>average_math</th>\n",
       "      <th>average_reading</th>\n",
       "      <th>average_writing</th>\n",
       "      <th>percent_tested</th>\n",
       "    </tr>\n",
       "  </thead>\n",
       "  <tbody>\n",
       "    <tr>\n",
       "      <th>0</th>\n",
       "      <td>New Explorations into Science, Technology and ...</td>\n",
       "      <td>Manhattan</td>\n",
       "      <td>M022</td>\n",
       "      <td>657</td>\n",
       "      <td>601</td>\n",
       "      <td>601</td>\n",
       "      <td>NaN</td>\n",
       "    </tr>\n",
       "    <tr>\n",
       "      <th>1</th>\n",
       "      <td>Essex Street Academy</td>\n",
       "      <td>Manhattan</td>\n",
       "      <td>M445</td>\n",
       "      <td>395</td>\n",
       "      <td>411</td>\n",
       "      <td>387</td>\n",
       "      <td>78.9</td>\n",
       "    </tr>\n",
       "    <tr>\n",
       "      <th>2</th>\n",
       "      <td>Lower Manhattan Arts Academy</td>\n",
       "      <td>Manhattan</td>\n",
       "      <td>M445</td>\n",
       "      <td>418</td>\n",
       "      <td>428</td>\n",
       "      <td>415</td>\n",
       "      <td>65.1</td>\n",
       "    </tr>\n",
       "    <tr>\n",
       "      <th>3</th>\n",
       "      <td>High School for Dual Language and Asian Studies</td>\n",
       "      <td>Manhattan</td>\n",
       "      <td>M445</td>\n",
       "      <td>613</td>\n",
       "      <td>453</td>\n",
       "      <td>463</td>\n",
       "      <td>95.9</td>\n",
       "    </tr>\n",
       "    <tr>\n",
       "      <th>4</th>\n",
       "      <td>Henry Street School for International Studies</td>\n",
       "      <td>Manhattan</td>\n",
       "      <td>M056</td>\n",
       "      <td>410</td>\n",
       "      <td>406</td>\n",
       "      <td>381</td>\n",
       "      <td>59.7</td>\n",
       "    </tr>\n",
       "  </tbody>\n",
       "</table>\n",
       "</div>"
      ],
      "text/plain": [
       "                                         school_name    borough building_code  \\\n",
       "0  New Explorations into Science, Technology and ...  Manhattan          M022   \n",
       "1                               Essex Street Academy  Manhattan          M445   \n",
       "2                       Lower Manhattan Arts Academy  Manhattan          M445   \n",
       "3    High School for Dual Language and Asian Studies  Manhattan          M445   \n",
       "4      Henry Street School for International Studies  Manhattan          M056   \n",
       "\n",
       "   average_math  average_reading  average_writing  percent_tested  \n",
       "0           657              601              601             NaN  \n",
       "1           395              411              387            78.9  \n",
       "2           418              428              415            65.1  \n",
       "3           613              453              463            95.9  \n",
       "4           410              406              381            59.7  "
      ]
     },
     "execution_count": 1,
     "metadata": {},
     "output_type": "execute_result"
    }
   ],
   "source": [
    "# Re-run this cell \n",
    "import pandas as pd\n",
    "\n",
    "# Read in the data\n",
    "schools = pd.read_csv(\"schools.csv\")\n",
    "\n",
    "# Preview the data\n",
    "schools.head()\n",
    "\n",
    "# Start coding here...\n",
    "# Add as many cells as you like..."
   ]
  },
  {
   "cell_type": "markdown",
   "id": "2480b6ec-6192-4da7-a0e7-c04a5c7be036",
   "metadata": {},
   "source": [
    "## Finding schools with the best math scores"
   ]
  },
  {
   "cell_type": "code",
   "execution_count": 2,
   "id": "87c755ab-ffeb-4619-ac9f-a6f9c90bc18b",
   "metadata": {
    "collapsed": false,
    "executionCancelledAt": null,
    "executionTime": 53,
    "jupyter": {
     "outputs_hidden": false,
     "source_hidden": false
    },
    "lastExecutedAt": 1731295175031,
    "lastExecutedByKernel": "4caf75a7-4f5e-4474-8e81-cb04f0e1474e",
    "lastScheduledRunId": null,
    "lastSuccessfullyExecutedCode": "# Getting al leat the 80% of the maximum possible score\nbest_math_result = schools[schools[\"average_math\"] >= 640]\n\n# Filtering the data as desired, only \"school_name\" and \"average_math\", sorted by \"average_math\"\nbest_math_schools = best_math_result[[\"school_name\", \"average_math\"]].sort_values(\"average_math\", ascending=False)\n\n# Printing the result\nprint(best_math_schools)",
    "outputsMetadata": {
     "0": {
      "height": 248,
      "type": "stream"
     }
    }
   },
   "outputs": [
    {
     "name": "stdout",
     "output_type": "stream",
     "text": [
      "                                           school_name  average_math\n",
      "88                              Stuyvesant High School           754\n",
      "170                       Bronx High School of Science           714\n",
      "93                 Staten Island Technical High School           711\n",
      "365  Queens High School for the Sciences at York Co...           701\n",
      "68   High School for Mathematics, Science, and Engi...           683\n",
      "280                     Brooklyn Technical High School           682\n",
      "333                        Townsend Harris High School           680\n",
      "174  High School of American Studies at Lehman College           669\n",
      "0    New Explorations into Science, Technology and ...           657\n",
      "45                       Eleanor Roosevelt High School           641\n"
     ]
    }
   ],
   "source": [
    "# Getting al leat the 80% of the maximum possible score\n",
    "best_math_result = schools[schools[\"average_math\"] >= 640]\n",
    "\n",
    "# Filtering the data as desired, only \"school_name\" and \"average_math\", sorted by \"average_math\"\n",
    "best_math_schools = best_math_result[[\"school_name\", \"average_math\"]].sort_values(\"average_math\", ascending=False)\n",
    "\n",
    "# Printing the result\n",
    "print(best_math_schools)"
   ]
  },
  {
   "cell_type": "markdown",
   "id": "36929618-95cb-4d49-9e2e-1005a1afe720",
   "metadata": {},
   "source": [
    "## Top 10 performing schools based on the combined SAT scores"
   ]
  },
  {
   "cell_type": "code",
   "execution_count": 3,
   "id": "d119ecd5-bb5b-4360-88cd-2e218f36156e",
   "metadata": {
    "collapsed": false,
    "executionCancelledAt": null,
    "executionTime": 51,
    "jupyter": {
     "outputs_hidden": false,
     "source_hidden": false
    },
    "lastExecutedAt": 1731295175082,
    "lastExecutedByKernel": "4caf75a7-4f5e-4474-8e81-cb04f0e1474e",
    "lastScheduledRunId": null,
    "lastSuccessfullyExecutedCode": "# Creating a new column total_SAT which contains the sum of the three test's reading, math and writing\nschools[\"total_SAT\"] = schools[[\"average_math\", \"average_reading\", \"average_writing\"]].sum(axis=1)\n\n# Creating the table of schools by top SAT\ntop_10_schools = schools[[\"school_name\", \"total_SAT\"]].sort_values(\"total_SAT\", ascending=False).head(10)\n\n# Printing the top 10 schools by the total SAT\nprint(top_10_schools.head(10))\n",
    "outputsMetadata": {
     "0": {
      "height": 248,
      "type": "stream"
     }
    }
   },
   "outputs": [
    {
     "name": "stdout",
     "output_type": "stream",
     "text": [
      "                                           school_name  total_SAT\n",
      "88                              Stuyvesant High School       2144\n",
      "170                       Bronx High School of Science       2041\n",
      "93                 Staten Island Technical High School       2041\n",
      "174  High School of American Studies at Lehman College       2013\n",
      "333                        Townsend Harris High School       1981\n",
      "365  Queens High School for the Sciences at York Co...       1947\n",
      "5                       Bard High School Early College       1914\n",
      "280                     Brooklyn Technical High School       1896\n",
      "45                       Eleanor Roosevelt High School       1889\n",
      "68   High School for Mathematics, Science, and Engi...       1889\n"
     ]
    }
   ],
   "source": [
    "# Creating a new column total_SAT which contains the sum of the three test's reading, math and writing\n",
    "schools[\"total_SAT\"] = schools[[\"average_math\", \"average_reading\", \"average_writing\"]].sum(axis=1)\n",
    "\n",
    "# Creating the table of schools by top SAT\n",
    "top_10_schools = schools[[\"school_name\", \"total_SAT\"]].sort_values(\"total_SAT\", ascending=False).head(10)\n",
    "\n",
    "# Printing the top 10 schools by the total SAT\n",
    "print(top_10_schools.head(10))\n"
   ]
  },
  {
   "cell_type": "markdown",
   "id": "c02ba47b-1a86-4212-b5a8-932350489632",
   "metadata": {},
   "source": [
    "## Single borough that has the largest standard deviation in the combined SAT score"
   ]
  },
  {
   "cell_type": "markdown",
   "id": "5e42f63a-29b0-4617-aece-67e7a4b331e4",
   "metadata": {},
   "source": [
    "Let's investigate by separating all the instructions first and see how each variable contains "
   ]
  },
  {
   "cell_type": "code",
   "execution_count": 4,
   "id": "6818de0e-07ee-4cd6-a73e-f119dc50ac13",
   "metadata": {
    "executionCancelledAt": null,
    "executionTime": 52,
    "lastExecutedAt": 1731295175134,
    "lastExecutedByKernel": "4caf75a7-4f5e-4474-8e81-cb04f0e1474e",
    "lastScheduledRunId": null,
    "lastSuccessfullyExecutedCode": "# Getting the borough that has the largest standard deviation of \"total_SAT\" \nschool_max_std = schools.groupby(\"borough\")[\"total_SAT\"].std()\n\n# Getting the number of schools in the borough\nschools_borough = schools[\"borough\"].value_counts()\n\n# The mean of \"total_SAT\" average_SAT\naverage_SAT = schools[\"total_SAT\"].mean()\n\n# The standard deviation of \"total_SAT\"\nstd_SAT = schools[\"total_SAT\"].std()\n\n# This last two can be done in one line \nstd_SAT_2 = schools[\"total_SAT\"].agg(['mean', 'std'])",
    "outputsMetadata": {
     "0": {
      "height": 80,
      "type": "stream"
     }
    }
   },
   "outputs": [],
   "source": [
    "# Getting the borough that has the largest standard deviation of \"total_SAT\" \n",
    "school_max_std = schools.groupby(\"borough\")[\"total_SAT\"].std()\n",
    "\n",
    "# Getting the number of schools in the borough\n",
    "schools_borough = schools[\"borough\"].value_counts()\n",
    "\n",
    "# The mean of \"total_SAT\" average_SAT\n",
    "average_SAT = schools[\"total_SAT\"].mean()\n",
    "\n",
    "# The standard deviation of \"total_SAT\"\n",
    "std_SAT = schools[\"total_SAT\"].std()\n",
    "\n",
    "# This last two can be done in one line \n",
    "std_SAT_2 = schools[\"total_SAT\"].agg(['mean', 'std'])"
   ]
  },
  {
   "cell_type": "markdown",
   "id": "1b046dda-9fe8-46f7-b68f-5a4af0ea8245",
   "metadata": {},
   "source": [
    "Now let's put the solution into one block of code with the previous ideas "
   ]
  },
  {
   "cell_type": "code",
   "execution_count": 5,
   "id": "c508dc59-9bf7-44fe-984b-a676c9c870d7",
   "metadata": {
    "executionCancelledAt": null,
    "executionTime": null,
    "lastExecutedAt": null,
    "lastExecutedByKernel": null,
    "lastScheduledRunId": null,
    "lastSuccessfullyExecutedCode": null,
    "outputsMetadata": {
     "0": {
      "height": 136,
      "type": "dataFrame"
     }
    }
   },
   "outputs": [
    {
     "data": {
      "text/html": [
       "<div>\n",
       "<style scoped>\n",
       "    .dataframe tbody tr th:only-of-type {\n",
       "        vertical-align: middle;\n",
       "    }\n",
       "\n",
       "    .dataframe tbody tr th {\n",
       "        vertical-align: top;\n",
       "    }\n",
       "\n",
       "    .dataframe thead th {\n",
       "        text-align: right;\n",
       "    }\n",
       "</style>\n",
       "<table border=\"1\" class=\"dataframe\">\n",
       "  <thead>\n",
       "    <tr style=\"text-align: right;\">\n",
       "      <th></th>\n",
       "      <th>borough</th>\n",
       "      <th>num_schools</th>\n",
       "      <th>average_SAT</th>\n",
       "      <th>std_SAT</th>\n",
       "    </tr>\n",
       "  </thead>\n",
       "  <tbody>\n",
       "    <tr>\n",
       "      <th>0</th>\n",
       "      <td>Manhattan</td>\n",
       "      <td>89</td>\n",
       "      <td>1340.13</td>\n",
       "      <td>230.29</td>\n",
       "    </tr>\n",
       "  </tbody>\n",
       "</table>\n",
       "</div>"
      ],
      "text/plain": [
       "     borough  num_schools  average_SAT  std_SAT\n",
       "0  Manhattan           89      1340.13   230.29"
      ]
     },
     "execution_count": 5,
     "metadata": {},
     "output_type": "execute_result"
    }
   ],
   "source": [
    "# Getting the borough that has the largest standard deviation of \"total_SAT\" \n",
    "borough_max_std = schools.groupby(\"borough\")[\"total_SAT\"].agg('std')\n",
    "\n",
    "# Large std\n",
    "max_std_value = borough_max_std.max()\n",
    "large_std_dev_borough = borough_max_std.idxmax()\n",
    "\n",
    "# Getting the number of schools in each borough\n",
    "schools_borough = schools[\"borough\"].value_counts()\n",
    "\n",
    "# The mean and standard deviation of \"total_SAT\" for the borough with the largest std deviation\n",
    "average_SAT_borough = schools[schools[\"borough\"] == large_std_dev_borough][\"total_SAT\"].mean()\n",
    "std_SAT_borough = schools[schools[\"borough\"] == large_std_dev_borough][\"total_SAT\"].std()\n",
    "\n",
    "# Creating a DataFrame with the required information for the borough with the largest std deviation\n",
    "largest_std_dev = pd.DataFrame({\n",
    "    \"borough\": [large_std_dev_borough],\n",
    "    \"num_schools\": [schools_borough[large_std_dev_borough]],\n",
    "    \"average_SAT\": [average_SAT_borough],\n",
    "    \"std_SAT\": [max_std_value]\n",
    "})\n",
    "\n",
    "# Rounding numeric values to two decimal places\n",
    "largest_std_dev = largest_std_dev.round(2)\n",
    "\n",
    "largest_std_dev"
   ]
  },
  {
   "cell_type": "code",
   "execution_count": null,
   "id": "f6a27ca8-8209-4699-8472-fc3fea95664b",
   "metadata": {},
   "outputs": [],
   "source": []
  }
 ],
 "metadata": {
  "editor": "DataLab",
  "kernelspec": {
   "display_name": "Python 3 (ipykernel)",
   "language": "python",
   "name": "python3"
  },
  "language_info": {
   "codemirror_mode": {
    "name": "ipython",
    "version": 3
   },
   "file_extension": ".py",
   "mimetype": "text/x-python",
   "name": "python",
   "nbconvert_exporter": "python",
   "pygments_lexer": "ipython3",
   "version": "3.12.7"
  }
 },
 "nbformat": 4,
 "nbformat_minor": 5
}
